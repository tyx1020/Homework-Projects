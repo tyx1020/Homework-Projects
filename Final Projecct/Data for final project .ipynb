{
 "cells": [
  {
   "cell_type": "code",
   "execution_count": 1,
   "metadata": {},
   "outputs": [],
   "source": [
    "import baostock as bs\n",
    "import pandas as pd"
   ]
  },
  {
   "cell_type": "code",
   "execution_count": 2,
   "metadata": {},
   "outputs": [
    {
     "name": "stdout",
     "output_type": "stream",
     "text": [
      "login success!\n"
     ]
    }
   ],
   "source": [
    "lg = bs.login()"
   ]
  },
  {
   "cell_type": "code",
   "execution_count": 3,
   "metadata": {},
   "outputs": [
    {
     "name": "stdout",
     "output_type": "stream",
     "text": [
      "login respond error_code:0\n",
      "login respond  error_msg:success\n"
     ]
    }
   ],
   "source": [
    "print('login respond error_code:'+lg.error_code)\n",
    "print('login respond  error_msg:'+lg.error_msg)"
   ]
  },
  {
   "cell_type": "code",
   "execution_count": 4,
   "metadata": {},
   "outputs": [
    {
     "name": "stdout",
     "output_type": "stream",
     "text": [
      "query_sz50 error_code:0\n",
      "query_sz50  error_msg:success\n"
     ]
    }
   ],
   "source": [
    "rs = bs.query_sz50_stocks()\n",
    "print('query_sz50 error_code:'+rs.error_code)\n",
    "print('query_sz50  error_msg:'+rs.error_msg)"
   ]
  },
  {
   "cell_type": "code",
   "execution_count": 59,
   "metadata": {},
   "outputs": [
    {
     "name": "stdout",
     "output_type": "stream",
     "text": [
      "login success!\n",
      "login respond error_code:0\n",
      "login respond  error_msg:success\n",
      "query_history_k_data_plus respond error_code:0\n",
      "query_history_k_data_plus respond  error_msg:success\n",
      "           date       code      open      high       low     close  preclose  \\\n",
      "0    2017-03-28  sh.603833   72.1200   72.1200   72.1200   72.1200   50.0800   \n",
      "1    2017-03-29  sh.603833   79.3300   79.3300   79.3300   79.3300   72.1200   \n",
      "2    2017-03-30  sh.603833   87.2600   87.2600   87.2600   87.2600   79.3300   \n",
      "3    2017-03-31  sh.603833   95.9900   95.9900   95.9900   95.9900   87.2600   \n",
      "4    2017-04-05  sh.603833  105.5900  105.5900  105.5900  105.5900   95.9900   \n",
      "..          ...        ...       ...       ...       ...       ...       ...   \n",
      "671  2019-12-25  sh.603833  110.8100  112.7500  109.0100  111.0600  110.5000   \n",
      "672  2019-12-26  sh.603833  110.9600  115.3800  110.0400  114.6300  111.0600   \n",
      "673  2019-12-27  sh.603833  114.6500  117.2800  113.1300  114.6200  114.6300   \n",
      "674  2019-12-30  sh.603833  114.6200  116.8800  113.5500  115.9000  114.6200   \n",
      "675  2019-12-31  sh.603833  116.9000  117.8800  115.2000  117.0000  115.9000   \n",
      "\n",
      "      volume          amount adjustflag      turn tradestatus     pctChg isST  \n",
      "0      13633     983212.0000          3  0.032843           1  44.009580    0  \n",
      "1       6996     554993.0000          3  0.016854           1   9.997226    0  \n",
      "2       9696     846073.0000          3  0.023358           1   9.996219    0  \n",
      "3      60525    5809795.0000          3  0.145808           1  10.004580    0  \n",
      "4     175453   18526082.0000          3  0.422676           1  10.001040    0  \n",
      "..       ...             ...        ...       ...         ...        ...  ...  \n",
      "671   686391   76021316.0000          3  0.725700           1   0.506800    0  \n",
      "672  1270702  144976582.0000          3  1.343400           1   3.214500    0  \n",
      "673  1076866  124729246.0000          3  1.138500           1  -0.008700    0  \n",
      "674  1259772  145161661.0000          3  1.331900           1   1.116700    0  \n",
      "675   796969   92786472.0000          3  0.842600           1   0.949100    0  \n",
      "\n",
      "[676 rows x 14 columns]\n",
      "logout success!\n"
     ]
    },
    {
     "data": {
      "text/plain": [
       "<baostock.data.resultset.ResultData at 0x20bf1f51160>"
      ]
     },
     "execution_count": 59,
     "metadata": {},
     "output_type": "execute_result"
    }
   ],
   "source": [
    "import baostock as bs\n",
    "import pandas as pd\n",
    "\n",
    "#### 登陆系统 ####\n",
    "lg = bs.login()\n",
    "# 显示登陆返回信息\n",
    "print('login respond error_code:'+lg.error_code)\n",
    "print('login respond  error_msg:'+lg.error_msg)\n",
    "\n",
    "#### 获取沪深A股历史K线数据 ####\n",
    "# 详细指标参数，参见“历史行情指标参数”章节；“分钟线”参数与“日线”参数不同。“分钟线”不包含指数。\n",
    "# 分钟线指标：date,time,code,open,high,low,close,volume,amount,adjustflag\n",
    "# 周月线指标：date,code,open,high,low,close,volume,amount,adjustflag,turn,pctChg\n",
    "rs = bs.query_history_k_data_plus(\"sh.603833\",\n",
    "    \"date,code,open,high,low,close,preclose,volume,amount,adjustflag,turn,tradestatus,pctChg,isST\",\n",
    "    start_date='2011-01-01', end_date='2020-01-01',\n",
    "    frequency=\"d\", adjustflag=\"3\")\n",
    "print('query_history_k_data_plus respond error_code:'+rs.error_code)\n",
    "print('query_history_k_data_plus respond  error_msg:'+rs.error_msg)\n",
    "\n",
    "#### 打印结果集 ####\n",
    "data_list = []\n",
    "while (rs.error_code == '0') & rs.next():\n",
    "    # 获取一条记录，将记录合并在一起\n",
    "    data_list.append(rs.get_row_data())\n",
    "result = pd.DataFrame(data_list, columns=rs.fields)\n",
    "\n",
    "#### 结果集输出到csv文件 ####   \n",
    "result.to_csv(\"D:\\\\history_A_stock_k_data.csv\", index=False)\n",
    "print(result)\n",
    "\n",
    "#### 登出系统 ####\n",
    "bs.logout()"
   ]
  },
  {
   "cell_type": "code",
   "execution_count": 8,
   "metadata": {},
   "outputs": [
    {
     "name": "stdout",
     "output_type": "stream",
     "text": [
      "login success!\n",
      "login respond error_code:0\n",
      "login respond  error_msg:success\n",
      "query_history_k_data_plus respond error_code:0\n",
      "query_history_k_data_plus respond  error_msg:success\n",
      "            date       code       open       high        low      close  \\\n",
      "0     2011-01-04  sh.600519   186.9000   187.9000   182.6000   185.5000   \n",
      "1     2011-01-05  sh.600519   184.9000   185.4000   180.5000   181.0800   \n",
      "2     2011-01-06  sh.600519   181.2100   183.6000   178.4400   180.2400   \n",
      "3     2011-01-07  sh.600519   180.1800   181.6900   178.5000   179.7200   \n",
      "4     2011-01-10  sh.600519   179.6200   180.5100   174.1400   174.3100   \n",
      "...          ...        ...        ...        ...        ...        ...   \n",
      "2184  2019-12-25  sh.600519  1143.0000  1143.0000  1130.0100  1133.7000   \n",
      "2185  2019-12-26  sh.600519  1132.0000  1141.9800  1119.9900  1135.1000   \n",
      "2186  2019-12-27  sh.600519  1150.0000  1172.0000  1150.0000  1163.0000   \n",
      "2187  2019-12-30  sh.600519  1170.2000  1195.5000  1170.2000  1185.8000   \n",
      "2188  2019-12-31  sh.600519  1183.0000  1188.0000  1176.5100  1183.0000   \n",
      "\n",
      "       preclose   volume           amount adjustflag      turn tradestatus  \\\n",
      "0      183.9200  6046226  1116558389.0000          3  0.640626           1   \n",
      "1      185.5000  5819802  1064872709.0000          3  0.616635           1   \n",
      "2      181.0800  3758456   677983969.0000          3  0.398226           1   \n",
      "3      180.2400  3053380   548732363.0000          3  0.323520           1   \n",
      "4      179.7200  3878483   687881571.0000          3  0.410943           1   \n",
      "...         ...      ...              ...        ...       ...         ...   \n",
      "2184  1148.0000  2430597  2755735164.0000          3  0.193500           1   \n",
      "2185  1133.7000  2287727  2585996501.0000          3  0.182100           1   \n",
      "2186  1135.1000  4706628  5486452901.0000          3  0.374700           1   \n",
      "2187  1163.0000  4076066  4827682057.0000          3  0.324500           1   \n",
      "2188  1185.8000  2258881  2666705100.0000          3  0.179800           1   \n",
      "\n",
      "         pctChg isST  \n",
      "0      0.859100    0  \n",
      "1     -2.382700    0  \n",
      "2     -0.463900    0  \n",
      "3     -0.288500    0  \n",
      "4     -3.010200    0  \n",
      "...         ...  ...  \n",
      "2184  -1.245600    0  \n",
      "2185   0.123500    0  \n",
      "2186   2.457900    0  \n",
      "2187   1.960500    0  \n",
      "2188  -0.236100    0  \n",
      "\n",
      "[2189 rows x 14 columns]\n",
      "logout success!\n"
     ]
    },
    {
     "data": {
      "text/plain": [
       "<baostock.data.resultset.ResultData at 0x20bf1f5cb20>"
      ]
     },
     "execution_count": 8,
     "metadata": {},
     "output_type": "execute_result"
    }
   ],
   "source": [
    "import baostock as bs\n",
    "import pandas as pd\n",
    "\n",
    "#### 登陆系统 ####\n",
    "lg = bs.login()\n",
    "# 显示登陆返回信息\n",
    "print('login respond error_code:'+lg.error_code)\n",
    "print('login respond  error_msg:'+lg.error_msg)\n",
    "\n",
    "#### 获取沪深A股历史K线数据 ####\n",
    "# 详细指标参数，参见“历史行情指标参数”章节；“分钟线”参数与“日线”参数不同。“分钟线”不包含指数。\n",
    "# 分钟线指标：date,time,code,open,high,low,close,volume,amount,adjustflag\n",
    "# 周月线指标：date,code,open,high,low,close,volume,amount,adjustflag,turn,pctChg\n",
    "rs = bs.query_history_k_data_plus(\"sh.600519\",\n",
    "    \"date,code,open,high,low,close,preclose,volume,amount,adjustflag,turn,tradestatus,pctChg,isST\",\n",
    "    start_date='2011-01-01', end_date='2020-01-01',\n",
    "    frequency=\"d\", adjustflag=\"3\")\n",
    "print('query_history_k_data_plus respond error_code:'+rs.error_code)\n",
    "print('query_history_k_data_plus respond  error_msg:'+rs.error_msg)\n",
    "\n",
    "#### 打印结果集 ####\n",
    "data_list = []\n",
    "while (rs.error_code == '0') & rs.next():\n",
    "    # 获取一条记录，将记录合并在一起\n",
    "    data_list.append(rs.get_row_data())\n",
    "result = pd.DataFrame(data_list, columns=rs.fields)\n",
    "\n",
    "#### 结果集输出到csv文件 ####   \n",
    "result.to_csv(\"D:\\\\history_A_stock_k_data.csv\", index=False)\n",
    "print(result)\n",
    "\n",
    "#### 登出系统 ####\n",
    "bs.logout()"
   ]
  },
  {
   "cell_type": "code",
   "execution_count": 61,
   "metadata": {},
   "outputs": [
    {
     "name": "stdout",
     "output_type": "stream",
     "text": [
      "login success!\n",
      "login respond error_code:0\n",
      "login respond  error_msg:success\n",
      "query_history_k_data_plus respond error_code:0\n",
      "query_history_k_data_plus respond  error_msg:success\n",
      "            date       code    open    high     low   close preclose  \\\n",
      "0     2011-01-04  sh.601899  8.2600  8.5000  8.1600  8.3500   8.2100   \n",
      "1     2011-01-05  sh.601899  8.0800  8.1400  8.0300  8.1100   8.3500   \n",
      "2     2011-01-06  sh.601899  8.0500  8.1300  7.9500  7.9900   8.1100   \n",
      "3     2011-01-07  sh.601899  7.9500  7.9900  7.7900  7.8900   7.9900   \n",
      "4     2011-01-10  sh.601899  7.8500  7.8800  7.7600  7.7800   7.8900   \n",
      "...          ...        ...     ...     ...     ...     ...      ...   \n",
      "2184  2019-12-25  sh.601899  4.1500  4.2000  4.0900  4.1400   4.1200   \n",
      "2185  2019-12-26  sh.601899  4.1200  4.2400  4.1000  4.1900   4.1400   \n",
      "2186  2019-12-27  sh.601899  4.1900  4.6100  4.1900  4.4600   4.1900   \n",
      "2187  2019-12-30  sh.601899  4.4800  4.6000  4.3700  4.4900   4.4600   \n",
      "2188  2019-12-31  sh.601899  4.5300  4.6400  4.4500  4.5900   4.4900   \n",
      "\n",
      "         volume           amount adjustflag      turn tradestatus     pctChg  \\\n",
      "0     155935951  1305827840.0000          3  2.465403           1   1.705200   \n",
      "1     112367567   909727986.0000          3  1.776572           1  -2.874300   \n",
      "2      74141034   594925901.0000          3  1.172196           1  -1.479700   \n",
      "3      81836464   644294914.0000          3  1.293864           1  -1.251600   \n",
      "4      55368016   432595955.0000          3  0.875388           1  -1.394200   \n",
      "...         ...              ...        ...       ...         ...        ...   \n",
      "2184  169416725   701708414.0000          3  0.881400           1   0.485400   \n",
      "2185  188737081   789315920.0000          3  0.981900           1   1.207700   \n",
      "2186  476812688  2114576087.0000          3  2.480600           1   6.443900   \n",
      "2187  293426672  1312175630.0000          3  1.526500           1   0.672600   \n",
      "2188  292216496  1330267050.0000          3  1.520200           1   2.227200   \n",
      "\n",
      "     isST  \n",
      "0       0  \n",
      "1       0  \n",
      "2       0  \n",
      "3       0  \n",
      "4       0  \n",
      "...   ...  \n",
      "2184    0  \n",
      "2185    0  \n",
      "2186    0  \n",
      "2187    0  \n",
      "2188    0  \n",
      "\n",
      "[2189 rows x 14 columns]\n",
      "logout success!\n"
     ]
    },
    {
     "data": {
      "text/plain": [
       "<baostock.data.resultset.ResultData at 0x20bd7e75a30>"
      ]
     },
     "execution_count": 61,
     "metadata": {},
     "output_type": "execute_result"
    }
   ],
   "source": [
    "import baostock as bs\n",
    "import pandas as pd\n",
    "\n",
    "#### 登陆系统 ####\n",
    "lg = bs.login()\n",
    "# 显示登陆返回信息\n",
    "print('login respond error_code:'+lg.error_code)\n",
    "print('login respond  error_msg:'+lg.error_msg)\n",
    "\n",
    "#### 获取沪深A股历史K线数据 ####\n",
    "# 详细指标参数，参见“历史行情指标参数”章节；“分钟线”参数与“日线”参数不同。“分钟线”不包含指数。\n",
    "# 分钟线指标：date,time,code,open,high,low,close,volume,amount,adjustflag\n",
    "# 周月线指标：date,code,open,high,low,close,volume,amount,adjustflag,turn,pctChg\n",
    "rs = bs.query_history_k_data_plus(\"sh.601899\",\n",
    "    \"date,code,open,high,low,close,preclose,volume,amount,adjustflag,turn,tradestatus,pctChg,isST\",\n",
    "    start_date='2011-01-01', end_date='2020-01-01',\n",
    "    frequency=\"d\", adjustflag=\"3\")\n",
    "print('query_history_k_data_plus respond error_code:'+rs.error_code)\n",
    "print('query_history_k_data_plus respond  error_msg:'+rs.error_msg)\n",
    "\n",
    "#### 打印结果集 ####\n",
    "data_list = []\n",
    "while (rs.error_code == '0') & rs.next():\n",
    "    # 获取一条记录，将记录合并在一起\n",
    "    data_list.append(rs.get_row_data())\n",
    "result = pd.DataFrame(data_list, columns=rs.fields)\n",
    "\n",
    "#### 结果集输出到csv文件 ####   \n",
    "result.to_csv(\"D:\\\\history_A_stock_k_data.csv\", index=False)\n",
    "print(result)\n",
    "\n",
    "#### 登出系统 ####\n",
    "bs.logout()"
   ]
  },
  {
   "cell_type": "code",
   "execution_count": null,
   "metadata": {},
   "outputs": [],
   "source": []
  },
  {
   "cell_type": "code",
   "execution_count": null,
   "metadata": {},
   "outputs": [],
   "source": []
  },
  {
   "cell_type": "code",
   "execution_count": null,
   "metadata": {},
   "outputs": [],
   "source": []
  }
 ],
 "metadata": {
  "kernelspec": {
   "display_name": "Python 3",
   "language": "python",
   "name": "python3"
  },
  "language_info": {
   "codemirror_mode": {
    "name": "ipython",
    "version": 3
   },
   "file_extension": ".py",
   "mimetype": "text/x-python",
   "name": "python",
   "nbconvert_exporter": "python",
   "pygments_lexer": "ipython3",
   "version": "3.8.3"
  }
 },
 "nbformat": 4,
 "nbformat_minor": 4
}
