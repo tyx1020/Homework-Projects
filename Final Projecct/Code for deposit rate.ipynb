{
 "cells": [
  {
   "cell_type": "code",
   "execution_count": 8,
   "metadata": {},
   "outputs": [
    {
     "name": "stdout",
     "output_type": "stream",
     "text": [
      "login success!\n",
      "login respond error_code:0\n",
      "login respond  error_msg:success\n",
      "query_deposit_rate_data respond error_code:0\n",
      "query_deposit_rate_data respond  error_msg:success\n",
      "       pubDate demandDepositRate fixedDepositRate3Month  \\\n",
      "0   2011-02-09          0.400000               2.600000   \n",
      "1   2011-04-06          0.500000               2.850000   \n",
      "2   2011-07-07          0.500000               3.100000   \n",
      "3   2012-06-08          0.400000               2.850000   \n",
      "4   2012-07-06          0.350000               2.600000   \n",
      "5   2014-11-22          0.350000               2.350000   \n",
      "6   2015-03-01          0.350000               2.100000   \n",
      "7   2015-05-11          0.350000               1.850000   \n",
      "8   2015-06-28          0.350000               1.600000   \n",
      "9   2015-08-26          0.350000               1.350000   \n",
      "10  2015-10-24          0.350000               1.100000   \n",
      "\n",
      "   fixedDepositRate6Month fixedDepositRate1Year fixedDepositRate2Year  \\\n",
      "0                2.800000              3.000000              3.900000   \n",
      "1                3.050000              3.250000              4.150000   \n",
      "2                3.300000              3.500000              4.400000   \n",
      "3                3.050000              3.250000              4.100000   \n",
      "4                2.800000              3.000000              3.750000   \n",
      "5                2.550000              2.750000              3.350000   \n",
      "6                2.300000              2.500000              3.100000   \n",
      "7                2.050000              2.250000              2.850000   \n",
      "8                1.800000              2.000000              2.600000   \n",
      "9                1.550000              1.750000              2.350000   \n",
      "10               1.300000              1.500000              2.100000   \n",
      "\n",
      "   fixedDepositRate3Year fixedDepositRate5Year  \\\n",
      "0               4.500000              5.000000   \n",
      "1               4.750000              5.250000   \n",
      "2               5.000000              5.500000   \n",
      "3               4.650000              5.100000   \n",
      "4               4.250000              4.750000   \n",
      "5               4.000000                         \n",
      "6               3.750000                         \n",
      "7               3.500000                         \n",
      "8               3.250000                         \n",
      "9               3.000000                         \n",
      "10              2.750000                         \n",
      "\n",
      "   installmentFixedDepositRate1Year installmentFixedDepositRate3Year  \\\n",
      "0                          2.600000                         2.800000   \n",
      "1                          2.850000                         3.050000   \n",
      "2                          3.100000                         3.300000   \n",
      "3                          2.850000                         3.050000   \n",
      "4                          2.600000                         2.800000   \n",
      "5                          2.350000                         2.550000   \n",
      "6                          2.100000                         2.300000   \n",
      "7                          1.850000                         2.050000   \n",
      "8                          1.600000                         1.800000   \n",
      "9                          1.350000                         1.550000   \n",
      "10                         1.100000                         1.300000   \n",
      "\n",
      "   installmentFixedDepositRate5Year  \n",
      "0                          3.000000  \n",
      "1                          3.250000  \n",
      "2                          3.500000  \n",
      "3                          3.250000  \n",
      "4                          3.000000  \n",
      "5                                    \n",
      "6                                    \n",
      "7                                    \n",
      "8                                    \n",
      "9                                    \n",
      "10                                   \n",
      "logout success!\n"
     ]
    },
    {
     "data": {
      "text/plain": [
       "<baostock.data.resultset.ResultData at 0x2251f359d30>"
      ]
     },
     "execution_count": 8,
     "metadata": {},
     "output_type": "execute_result"
    }
   ],
   "source": [
    "import baostock as bs\n",
    "import pandas as pd\n",
    "\n",
    "#  log in the system\n",
    "lg = bs.login()\n",
    "# showing the logging information \n",
    "print('login respond error_code:'+lg.error_code)\n",
    "print('login respond  error_msg:'+lg.error_msg)\n",
    "\n",
    "# obstain the deposit information \n",
    "rs = bs.query_deposit_rate_data(start_date=\"2011-01-01\", end_date=\"2016-12-31\")\n",
    "print('query_deposit_rate_data respond error_code:'+rs.error_code)\n",
    "print('query_deposit_rate_data respond  error_msg:'+rs.error_msg)\n",
    "\n",
    "# print the list \n",
    "data_list = []\n",
    "while (rs.error_code == '0') & rs.next():\n",
    "    # obstain one piecre of record and combine all the records \n",
    "    data_list.append(rs.get_row_data())\n",
    "result = pd.DataFrame(data_list, columns=rs.fields)\n",
    "# save all the datas \n",
    "result.to_csv(\"D:/deposit_rate.csv\", encoding=\"gbk\", index=False)\n",
    "print(result)\n",
    "\n",
    "# log out \n",
    "bs.logout()"
   ]
  },
  {
   "cell_type": "code",
   "execution_count": null,
   "metadata": {},
   "outputs": [],
   "source": []
  }
 ],
 "metadata": {
  "kernelspec": {
   "display_name": "Python 3",
   "language": "python",
   "name": "python3"
  },
  "language_info": {
   "codemirror_mode": {
    "name": "ipython",
    "version": 3
   },
   "file_extension": ".py",
   "mimetype": "text/x-python",
   "name": "python",
   "nbconvert_exporter": "python",
   "pygments_lexer": "ipython3",
   "version": "3.8.3"
  }
 },
 "nbformat": 4,
 "nbformat_minor": 4
}
