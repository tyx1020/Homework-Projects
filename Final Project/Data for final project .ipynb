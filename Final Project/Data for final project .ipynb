{
 "cells": [
  {
   "cell_type": "code",
   "execution_count": 1,
   "metadata": {},
   "outputs": [],
   "source": [
    "import baostock as bs\n",
    "import pandas as pd"
   ]
  },
  {
   "cell_type": "code",
   "execution_count": 2,
   "metadata": {},
   "outputs": [
    {
     "name": "stdout",
     "output_type": "stream",
     "text": [
      "login success!\n"
     ]
    }
   ],
   "source": [
    "lg = bs.login()"
   ]
  },
  {
   "cell_type": "code",
   "execution_count": 3,
   "metadata": {},
   "outputs": [
    {
     "name": "stdout",
     "output_type": "stream",
     "text": [
      "login respond error_code:0\n",
      "login respond  error_msg:success\n"
     ]
    }
   ],
   "source": [
    "print('login respond error_code:'+lg.error_code)\n",
    "print('login respond  error_msg:'+lg.error_msg)"
   ]
  },
  {
   "cell_type": "code",
   "execution_count": 4,
   "metadata": {},
   "outputs": [
    {
     "name": "stdout",
     "output_type": "stream",
     "text": [
      "query_sz50 error_code:0\n",
      "query_sz50  error_msg:success\n"
     ]
    }
   ],
   "source": [
    "rs = bs.query_sz50_stocks()\n",
    "print('query_sz50 error_code:'+rs.error_code)\n",
    "print('query_sz50  error_msg:'+rs.error_msg)"
   ]
  },
  {
   "cell_type": "code",
   "execution_count": 1,
   "metadata": {},
   "outputs": [
    {
     "name": "stdout",
     "output_type": "stream",
     "text": [
      "login success!\n",
      "login respond error_code:0\n",
      "login respond  error_msg:success\n",
      "query_history_k_data_plus respond error_code:0\n",
      "query_history_k_data_plus respond  error_msg:success\n",
      "            date       code     open     high      low    close preclose  \\\n",
      "0     2011-01-04  sh.600141  20.1500  21.2500  20.1000  21.1900  20.0600   \n",
      "1     2011-01-05  sh.600141  21.1900  22.3000  21.0100  21.7600  21.1900   \n",
      "2     2011-01-06  sh.600141  21.5600  21.9000  21.2700  21.4400  21.7600   \n",
      "3     2011-01-07  sh.600141  21.6500  22.1200  20.9000  21.3100  21.4400   \n",
      "4     2011-01-10  sh.600141  21.0900  21.3000  20.6800  20.6900  21.3100   \n",
      "...          ...        ...      ...      ...      ...      ...      ...   \n",
      "2184  2019-12-25  sh.600141   9.8100  10.4900   9.7300  10.1000   9.7900   \n",
      "2185  2019-12-26  sh.600141  10.0700  10.3900  10.0100  10.3300  10.1000   \n",
      "2186  2019-12-27  sh.600141  10.2900  10.4000  10.1700  10.1900  10.3300   \n",
      "2187  2019-12-30  sh.600141  10.1300  10.3100  10.1000  10.3000  10.1900   \n",
      "2188  2019-12-31  sh.600141  10.6000  10.6900  10.2500  10.2800  10.3000   \n",
      "\n",
      "        volume          amount adjustflag      turn tradestatus     pctChg  \\\n",
      "0     14116701  295837077.0000          3  4.059323           1   5.633100   \n",
      "1     18889834  412645086.0000          3  5.431859           1   2.689900   \n",
      "2      7621069  163599427.0000          3  2.191474           1  -1.470600   \n",
      "3      9061339  195830226.0000          3  2.605630           1  -0.606300   \n",
      "4      4508733   94478311.0000          3  1.296507           1  -2.909400   \n",
      "...        ...             ...        ...       ...         ...        ...   \n",
      "2184  14259541  143517576.0000          3  1.998100           1   3.166500   \n",
      "2185  16636231  170449071.0000          3  2.331200           1   2.277200   \n",
      "2186  13247196  136182790.0000          3  1.856300           1  -1.355300   \n",
      "2187   9820438  100468508.0000          3  1.376100           1   1.079500   \n",
      "2188  13468088  139948931.0000          3  1.887200           1  -0.194200   \n",
      "\n",
      "     isST  \n",
      "0       0  \n",
      "1       0  \n",
      "2       0  \n",
      "3       0  \n",
      "4       0  \n",
      "...   ...  \n",
      "2184    0  \n",
      "2185    0  \n",
      "2186    0  \n",
      "2187    0  \n",
      "2188    0  \n",
      "\n",
      "[2189 rows x 14 columns]\n",
      "logout success!\n"
     ]
    },
    {
     "data": {
      "text/plain": [
       "<baostock.data.resultset.ResultData at 0x1b1123f03d0>"
      ]
     },
     "execution_count": 1,
     "metadata": {},
     "output_type": "execute_result"
    }
   ],
   "source": [
    "import baostock as bs\n",
    "import pandas as pd\n",
    "\n",
    "#### 登陆系统 ####\n",
    "lg = bs.login()\n",
    "# 显示登陆返回信息\n",
    "print('login respond error_code:'+lg.error_code)\n",
    "print('login respond  error_msg:'+lg.error_msg)\n",
    "\n",
    "#### 获取沪深A股历史K线数据 ####\n",
    "# 详细指标参数，参见“历史行情指标参数”章节；“分钟线”参数与“日线”参数不同。“分钟线”不包含指数。\n",
    "# 分钟线指标：date,time,code,open,high,low,close,volume,amount,adjustflag\n",
    "# 周月线指标：date,code,open,high,low,close,volume,amount,adjustflag,turn,pctChg\n",
    "rs = bs.query_history_k_data_plus(\"sh.600141\",\n",
    "    \"date,code,open,high,low,close,preclose,volume,amount,adjustflag,turn,tradestatus,pctChg,isST\",\n",
    "    start_date='2011-01-01', end_date='2020-01-01',\n",
    "    frequency=\"d\", adjustflag=\"3\")\n",
    "print('query_history_k_data_plus respond error_code:'+rs.error_code)\n",
    "print('query_history_k_data_plus respond  error_msg:'+rs.error_msg)\n",
    "\n",
    "#### 打印结果集 ####\n",
    "data_list = []\n",
    "while (rs.error_code == '0') & rs.next():\n",
    "    # 获取一条记录，将记录合并在一起\n",
    "    data_list.append(rs.get_row_data())\n",
    "result = pd.DataFrame(data_list, columns=rs.fields)\n",
    "\n",
    "#### 结果集输出到csv文件 ####   \n",
    "result.to_csv(\"D:\\\\history_A_stock_k_data.csv\", index=False)\n",
    "print(result)\n",
    "\n",
    "#### 登出系统 ####\n",
    "bs.logout()"
   ]
  },
  {
   "cell_type": "code",
   "execution_count": 8,
   "metadata": {},
   "outputs": [
    {
     "name": "stdout",
     "output_type": "stream",
     "text": [
      "login success!\n",
      "login respond error_code:0\n",
      "login respond  error_msg:success\n",
      "query_history_k_data_plus respond error_code:0\n",
      "query_history_k_data_plus respond  error_msg:success\n",
      "            date       code       open       high        low      close  \\\n",
      "0     2011-01-04  sh.600519   186.9000   187.9000   182.6000   185.5000   \n",
      "1     2011-01-05  sh.600519   184.9000   185.4000   180.5000   181.0800   \n",
      "2     2011-01-06  sh.600519   181.2100   183.6000   178.4400   180.2400   \n",
      "3     2011-01-07  sh.600519   180.1800   181.6900   178.5000   179.7200   \n",
      "4     2011-01-10  sh.600519   179.6200   180.5100   174.1400   174.3100   \n",
      "...          ...        ...        ...        ...        ...        ...   \n",
      "2184  2019-12-25  sh.600519  1143.0000  1143.0000  1130.0100  1133.7000   \n",
      "2185  2019-12-26  sh.600519  1132.0000  1141.9800  1119.9900  1135.1000   \n",
      "2186  2019-12-27  sh.600519  1150.0000  1172.0000  1150.0000  1163.0000   \n",
      "2187  2019-12-30  sh.600519  1170.2000  1195.5000  1170.2000  1185.8000   \n",
      "2188  2019-12-31  sh.600519  1183.0000  1188.0000  1176.5100  1183.0000   \n",
      "\n",
      "       preclose   volume           amount adjustflag      turn tradestatus  \\\n",
      "0      183.9200  6046226  1116558389.0000          3  0.640626           1   \n",
      "1      185.5000  5819802  1064872709.0000          3  0.616635           1   \n",
      "2      181.0800  3758456   677983969.0000          3  0.398226           1   \n",
      "3      180.2400  3053380   548732363.0000          3  0.323520           1   \n",
      "4      179.7200  3878483   687881571.0000          3  0.410943           1   \n",
      "...         ...      ...              ...        ...       ...         ...   \n",
      "2184  1148.0000  2430597  2755735164.0000          3  0.193500           1   \n",
      "2185  1133.7000  2287727  2585996501.0000          3  0.182100           1   \n",
      "2186  1135.1000  4706628  5486452901.0000          3  0.374700           1   \n",
      "2187  1163.0000  4076066  4827682057.0000          3  0.324500           1   \n",
      "2188  1185.8000  2258881  2666705100.0000          3  0.179800           1   \n",
      "\n",
      "         pctChg isST  \n",
      "0      0.859100    0  \n",
      "1     -2.382700    0  \n",
      "2     -0.463900    0  \n",
      "3     -0.288500    0  \n",
      "4     -3.010200    0  \n",
      "...         ...  ...  \n",
      "2184  -1.245600    0  \n",
      "2185   0.123500    0  \n",
      "2186   2.457900    0  \n",
      "2187   1.960500    0  \n",
      "2188  -0.236100    0  \n",
      "\n",
      "[2189 rows x 14 columns]\n",
      "logout success!\n"
     ]
    },
    {
     "data": {
      "text/plain": [
       "<baostock.data.resultset.ResultData at 0x20bf1f5cb20>"
      ]
     },
     "execution_count": 8,
     "metadata": {},
     "output_type": "execute_result"
    }
   ],
   "source": [
    "import baostock as bs\n",
    "import pandas as pd\n",
    "\n",
    "#### 登陆系统 ####\n",
    "lg = bs.login()\n",
    "# 显示登陆返回信息\n",
    "print('login respond error_code:'+lg.error_code)\n",
    "print('login respond  error_msg:'+lg.error_msg)\n",
    "\n",
    "#### 获取沪深A股历史K线数据 ####\n",
    "# 详细指标参数，参见“历史行情指标参数”章节；“分钟线”参数与“日线”参数不同。“分钟线”不包含指数。\n",
    "# 分钟线指标：date,time,code,open,high,low,close,volume,amount,adjustflag\n",
    "# 周月线指标：date,code,open,high,low,close,volume,amount,adjustflag,turn,pctChg\n",
    "rs = bs.query_history_k_data_plus(\"sh.600519\",\n",
    "    \"date,code,open,high,low,close,preclose,volume,amount,adjustflag,turn,tradestatus,pctChg,isST\",\n",
    "    start_date='2011-01-01', end_date='2020-01-01',\n",
    "    frequency=\"d\", adjustflag=\"3\")\n",
    "print('query_history_k_data_plus respond error_code:'+rs.error_code)\n",
    "print('query_history_k_data_plus respond  error_msg:'+rs.error_msg)\n",
    "\n",
    "#### 打印结果集 ####\n",
    "data_list = []\n",
    "while (rs.error_code == '0') & rs.next():\n",
    "    # 获取一条记录，将记录合并在一起\n",
    "    data_list.append(rs.get_row_data())\n",
    "result = pd.DataFrame(data_list, columns=rs.fields)\n",
    "\n",
    "#### 结果集输出到csv文件 ####   \n",
    "result.to_csv(\"D:\\\\history_A_stock_k_data.csv\", index=False)\n",
    "print(result)\n",
    "\n",
    "#### 登出系统 ####\n",
    "bs.logout()"
   ]
  },
  {
   "cell_type": "code",
   "execution_count": 2,
   "metadata": {},
   "outputs": [
    {
     "name": "stdout",
     "output_type": "stream",
     "text": [
      "login success!\n",
      "login respond error_code:0\n",
      "login respond  error_msg:success\n",
      "query_history_k_data_plus respond error_code:0\n",
      "query_history_k_data_plus respond  error_msg:success\n",
      "            date       code     open     high      low    close preclose  \\\n",
      "0     2011-01-04  sh.600141  20.1500  21.2500  20.1000  21.1900  20.0600   \n",
      "1     2011-01-05  sh.600141  21.1900  22.3000  21.0100  21.7600  21.1900   \n",
      "2     2011-01-06  sh.600141  21.5600  21.9000  21.2700  21.4400  21.7600   \n",
      "3     2011-01-07  sh.600141  21.6500  22.1200  20.9000  21.3100  21.4400   \n",
      "4     2011-01-10  sh.600141  21.0900  21.3000  20.6800  20.6900  21.3100   \n",
      "...          ...        ...      ...      ...      ...      ...      ...   \n",
      "2184  2019-12-25  sh.600141   9.8100  10.4900   9.7300  10.1000   9.7900   \n",
      "2185  2019-12-26  sh.600141  10.0700  10.3900  10.0100  10.3300  10.1000   \n",
      "2186  2019-12-27  sh.600141  10.2900  10.4000  10.1700  10.1900  10.3300   \n",
      "2187  2019-12-30  sh.600141  10.1300  10.3100  10.1000  10.3000  10.1900   \n",
      "2188  2019-12-31  sh.600141  10.6000  10.6900  10.2500  10.2800  10.3000   \n",
      "\n",
      "        volume          amount adjustflag      turn tradestatus     pctChg  \\\n",
      "0     14116701  295837077.0000          3  4.059323           1   5.633100   \n",
      "1     18889834  412645086.0000          3  5.431859           1   2.689900   \n",
      "2      7621069  163599427.0000          3  2.191474           1  -1.470600   \n",
      "3      9061339  195830226.0000          3  2.605630           1  -0.606300   \n",
      "4      4508733   94478311.0000          3  1.296507           1  -2.909400   \n",
      "...        ...             ...        ...       ...         ...        ...   \n",
      "2184  14259541  143517576.0000          3  1.998100           1   3.166500   \n",
      "2185  16636231  170449071.0000          3  2.331200           1   2.277200   \n",
      "2186  13247196  136182790.0000          3  1.856300           1  -1.355300   \n",
      "2187   9820438  100468508.0000          3  1.376100           1   1.079500   \n",
      "2188  13468088  139948931.0000          3  1.887200           1  -0.194200   \n",
      "\n",
      "     isST  \n",
      "0       0  \n",
      "1       0  \n",
      "2       0  \n",
      "3       0  \n",
      "4       0  \n",
      "...   ...  \n",
      "2184    0  \n",
      "2185    0  \n",
      "2186    0  \n",
      "2187    0  \n",
      "2188    0  \n",
      "\n",
      "[2189 rows x 14 columns]\n",
      "logout success!\n"
     ]
    },
    {
     "data": {
      "text/plain": [
       "<baostock.data.resultset.ResultData at 0x1b112449d30>"
      ]
     },
     "execution_count": 2,
     "metadata": {},
     "output_type": "execute_result"
    }
   ],
   "source": [
    "import baostock as bs\n",
    "import pandas as pd\n",
    "\n",
    "#### 登陆系统 ####\n",
    "lg = bs.login()\n",
    "# 显示登陆返回信息\n",
    "print('login respond error_code:'+lg.error_code)\n",
    "print('login respond  error_msg:'+lg.error_msg)\n",
    "\n",
    "#### 获取沪深A股历史K线数据 ####\n",
    "# 详细指标参数，参见“历史行情指标参数”章节；“分钟线”参数与“日线”参数不同。“分钟线”不包含指数。\n",
    "# 分钟线指标：date,time,code,open,high,low,close,volume,amount,adjustflag\n",
    "# 周月线指标：date,code,open,high,low,close,volume,amount,adjustflag,turn,pctChg\n",
    "rs = bs.query_history_k_data_plus(\"sh.600141\",\n",
    "    \"date,code,open,high,low,close,preclose,volume,amount,adjustflag,turn,tradestatus,pctChg,isST\",\n",
    "    start_date='2011-01-01', end_date='2020-01-01',\n",
    "    frequency=\"d\", adjustflag=\"3\")\n",
    "print('query_history_k_data_plus respond error_code:'+rs.error_code)\n",
    "print('query_history_k_data_plus respond  error_msg:'+rs.error_msg)\n",
    "\n",
    "#### 打印结果集 ####\n",
    "data_list = []\n",
    "while (rs.error_code == '0') & rs.next():\n",
    "    # 获取一条记录，将记录合并在一起\n",
    "    data_list.append(rs.get_row_data())\n",
    "result = pd.DataFrame(data_list, columns=rs.fields)\n",
    "\n",
    "#### 结果集输出到csv文件 ####   \n",
    "result.to_csv(\"D:\\\\history_A_stock_k_data.csv\", index=False)\n",
    "print(result)\n",
    "\n",
    "#### 登出系统 ####\n",
    "bs.logout()"
   ]
  },
  {
   "cell_type": "code",
   "execution_count": null,
   "metadata": {},
   "outputs": [],
   "source": []
  },
  {
   "cell_type": "code",
   "execution_count": null,
   "metadata": {},
   "outputs": [],
   "source": []
  },
  {
   "cell_type": "code",
   "execution_count": null,
   "metadata": {},
   "outputs": [],
   "source": []
  }
 ],
 "metadata": {
  "kernelspec": {
   "display_name": "Python 3",
   "language": "python",
   "name": "python3"
  },
  "language_info": {
   "codemirror_mode": {
    "name": "ipython",
    "version": 3
   },
   "file_extension": ".py",
   "mimetype": "text/x-python",
   "name": "python",
   "nbconvert_exporter": "python",
   "pygments_lexer": "ipython3",
   "version": "3.8.3"
  }
 },
 "nbformat": 4,
 "nbformat_minor": 4
}
